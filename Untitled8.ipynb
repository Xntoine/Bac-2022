{
 "cells": [
  {
   "cell_type": "markdown",
   "metadata": {},
   "source": [
    "## SUJET DE BAC !!"
   ]
  },
  {
   "cell_type": "markdown",
   "metadata": {},
   "source": [
    "EXERCICE 1 (4 points)"
   ]
  },
  {
   "cell_type": "code",
   "execution_count": 8,
   "metadata": {},
   "outputs": [],
   "source": [
    "\"1)\"\n",
    "def A():\n",
    "    if choice([True, False]):\n",
    "        return \"a\"\n",
    "    else:\n",
    "        return \"a\" + A() + \"a\""
   ]
  },
  {
   "cell_type": "markdown",
   "metadata": {},
   "source": [
    "a. Cette fonction est-elle récursive ? Justifier."
   ]
  },
  {
   "cell_type": "markdown",
   "metadata": {},
   "source": [
    "#### Réponse : La fonction A s’appelle elle-même, donc A est une fonction récursive"
   ]
  },
  {
   "cell_type": "markdown",
   "metadata": {},
   "source": [
    "b. La fonction choice([True, False]) peut renvoyer False un très grand\n",
    "nombre de fois consécutives. Expliquer pourquoi ce cas de figure amènerait à\n",
    "une erreur d'exécution."
   ]
  },
  {
   "cell_type": "markdown",
   "metadata": {},
   "source": [
    "##### Réponse : Le maximum de la profondeur de récursion en Python est généralement de 997, c’est une protection contre un débordement de pile. On obtient alors cette erreur au delà : RecursionError : maximum recursion depth exceeded in comparison. \n",
    "#### Vous pouvez modifier la limite de la récursivité avec sys.setrecursionlimit, par exemple avec : sys.setrecursionlimit(10**6)"
   ]
  },
  {
   "cell_type": "code",
   "execution_count": 9,
   "metadata": {},
   "outputs": [],
   "source": [
    "\"2)\"\n",
    "def A(n):\n",
    "    if ... or choice([True, False]) :\n",
    "        return \"a\"\n",
    "    else:\n",
    "        return \"a\" + ... + \"a\""
   ]
  },
  {
   "cell_type": "markdown",
   "metadata": {},
   "source": [
    "2. a. Recopier sur la copie et compléter aux emplacements des points de\n",
    "suspension ... le code de cette nouvelle fonction A."
   ]
  },
  {
   "cell_type": "code",
   "execution_count": 10,
   "metadata": {},
   "outputs": [],
   "source": [
    "def A(n):\n",
    "    if n<=0 or choice([True, False]) :\n",
    "        return \"a\"\n",
    "    else:\n",
    "        return \"a\" + A(n-1) + \"a\""
   ]
  },
  {
   "cell_type": "markdown",
   "metadata": {},
   "source": [
    "b. Justifier le fait qu'un appel de la forme A(n) avec n un nombre entier positif\n",
    "inférieur à 50, termine toujours."
   ]
  },
  {
   "cell_type": "markdown",
   "metadata": {},
   "source": [
    "#### Réponse : Pour n > 0, l’appel à A(n) provoque ou bien un arrêt de la fonction si choice ([True, False]) = True, ou bien un appel récursif A(n −1).\n",
    "#### Un appel à A(50) pourrait provoquer dans le pire des cas 50 appels récursifs pour arriver à A(0) qui termine, ou alors terminer avant!\n"
   ]
  },
  {
   "cell_type": "markdown",
   "metadata": {},
   "source": [
    "On admet que :\n",
    "   \n",
    "• les appels A(-1) et A(0) renvoient la chaîne \"a\";\n",
    "\n",
    "• l’appel A(1) renvoie la chaîne \"a\" ou la chaîne \"aaa\";\n",
    "\n",
    "• l’appel A(2) renvoie la chaîne \"a\", la chaîne \"aaa\" ou la chaîne \"aaaaa\".\n",
    "\n",
    "3) Donner toutes les chaînes possibles renvoyées par les appels B(0), B(1) et B(2)."
   ]
  },
  {
   "cell_type": "markdown",
   "metadata": {},
   "source": [
    "#### Réponse : • L’appel B(0) renvoie \"bab\" / • L’appel B(1) renvoie \"bab\" ou \"bbabb\" / • L’appel B(2) renvoie \"bab\", \"baaab\", \"bbabb\" ou \"bbbabbb\".\n",
    "\n"
   ]
  },
  {
   "cell_type": "markdown",
   "metadata": {},
   "source": [
    "4.a) Recopier sur la copie et compléter les points de suspension ... du code de la fonction regleA cidessous pour qu’elle renvoie True si la chaîne passée en paramètre est construite suivant la règle A, et False sinon."
   ]
  },
  {
   "cell_type": "code",
   "execution_count": null,
   "metadata": {},
   "outputs": [],
   "source": [
    "def regleA(chaine):\n",
    "    n = len(chaine)\n",
    "    if n >= 2:\n",
    "        return chaine[0] == \"a\" and chaine[n-1] == \"a\" and regleA(...)\n",
    "    else:\n",
    "        return chaine == ..."
   ]
  },
  {
   "cell_type": "markdown",
   "metadata": {},
   "source": [
    "#### Réponse : regle A(chaine[1 : n −1]) et return chaine == \"a\""
   ]
  },
  {
   "cell_type": "markdown",
   "metadata": {},
   "source": [
    "b. Écrire le code d’une fonction regleB, prenant en paramètre une chaîne de\n",
    "caractères et renvoyant True si la chaîne est construite suivant la règle B,\n",
    "et False sinon."
   ]
  },
  {
   "cell_type": "markdown",
   "metadata": {},
   "source": [
    "#### Réponse : "
   ]
  },
  {
   "cell_type": "code",
   "execution_count": 11,
   "metadata": {},
   "outputs": [],
   "source": [
    "def regleB(chaine):\n",
    "    n = len(chaine)\n",
    "    if n >= 2:\n",
    "        return chaine[0] == \"b\" and chaine[n - 1] == \"b\" and (regleA(chaine[1 : n - 1]) or regleB(chaine[1 : n - 1]))\n",
    "    else:\n",
    "        return False "
   ]
  }
 ],
 "metadata": {
  "kernelspec": {
   "display_name": "Python 3",
   "language": "python",
   "name": "python3"
  },
  "language_info": {
   "codemirror_mode": {
    "name": "ipython",
    "version": 3
   },
   "file_extension": ".py",
   "mimetype": "text/x-python",
   "name": "python",
   "nbconvert_exporter": "python",
   "pygments_lexer": "ipython3",
   "version": "3.8.5"
  }
 },
 "nbformat": 4,
 "nbformat_minor": 4
}
